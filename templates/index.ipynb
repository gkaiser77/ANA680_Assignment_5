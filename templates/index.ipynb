{
 "cells": [
  {
   "cell_type": "code",
   "execution_count": null,
   "id": "d7f94a50",
   "metadata": {},
   "outputs": [],
   "source": [
    "<!DOCTYPE html>\n",
    "<html lang=\"en\">\n",
    "<head>\n",
    "    <meta charset=\"UTF-8\">\n",
    "    <meta name=\"viewport\" content=\"width=device-width, initial-scale=1.0\">\n",
    "    <title>Wine Quality Prediction</title>\n",
    "</head>\n",
    "<body>\n",
    "    <h1>Wine Quality Prediction</h1>\n",
    "    <form action=\"/predict\" method=\"POST\">\n",
    "        <label for=\"fixed_acidity\">Fixed Acidity:</label>\n",
    "        <input type=\"text\" id=\"fixed_acidity\" name=\"fixed_acidity\"><br><br>\n",
    "\n",
    "        <label for=\"volatile_acidity\">Volatile Acidity:</label>\n",
    "        <input type=\"text\" id=\"volatile_acidity\" name=\"volatile_acidity\"><br><br>\n",
    "\n",
    "        <label for=\"citric_acid\">Citric Acid:</label>\n",
    "        <input type=\"text\" id=\"citric_acid\" name=\"citric_acid\"><br><br>\n",
    "\n",
    "        <label for=\"residual_sugar\">Residual Sugar:</label>\n",
    "        <input type=\"text\" id=\"residual_sugar\" name=\"residual_sugar\"><br><br>\n",
    "\n",
    "        <label for=\"chlorides\">Chlorides:</label>\n",
    "        <input type=\"text\" id=\"chlorides\" name=\"chlorides\"><br><br>\n",
    "\n",
    "        <label for=\"free_sulfur_dioxide\">Free Sulfur Dioxide:</label>\n",
    "        <input type=\"text\" id=\"free_sulfur_dioxide\" name=\"free_sulfur_dioxide\"><br><br>\n",
    "\n",
    "        <label for=\"total_sulfur_dioxide\">Total Sulfur Dioxide:</label>\n",
    "        <input type=\"text\" id=\"total_sulfur_dioxide\" name=\"total_sulfur_dioxide\"><br><br>\n",
    "\n",
    "        <label for=\"density\">Density:</label>\n",
    "        <input type=\"text\" id=\"density\" name=\"density\"><br><br>\n",
    "\n",
    "        <label for=\"pH\">pH:</label>\n",
    "        <input type=\"text\" id=\"pH\" name=\"pH\"><br><br>\n",
    "\n",
    "        <label for=\"sulphates\">Sulphates:</label>\n",
    "        <input type=\"text\" id=\"sulphates\" name=\"sulphates\"><br><br>\n",
    "\n",
    "        <label for=\"alcohol\">Alcohol:</label>\n",
    "        <input type=\"text\" id=\"alcohol\" name=\"alcohol\"><br><br>\n",
    "\n",
    "        <input type=\"submit\" value=\"Predict\">\n",
    "    </form>\n",
    "</body>\n",
    "</html>\n"
   ]
  }
 ],
 "metadata": {
  "kernelspec": {
   "display_name": "Python 3 (ipykernel)",
   "language": "python",
   "name": "python3"
  },
  "language_info": {
   "codemirror_mode": {
    "name": "ipython",
    "version": 3
   },
   "file_extension": ".py",
   "mimetype": "text/x-python",
   "name": "python",
   "nbconvert_exporter": "python",
   "pygments_lexer": "ipython3",
   "version": "3.11.5"
  }
 },
 "nbformat": 4,
 "nbformat_minor": 5
}
