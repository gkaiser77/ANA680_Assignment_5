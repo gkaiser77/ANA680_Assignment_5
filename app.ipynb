{
 "cells": [
  {
   "cell_type": "code",
   "execution_count": null,
   "id": "ba8dedfe",
   "metadata": {},
   "outputs": [],
   "source": [
    "from flask import Flask, request, render_template, jsonify\n",
    "import joblib\n",
    "import numpy as np\n",
    "\n",
    "app = Flask(__name__)\n",
    "\n",
    "# Load model\n",
    "model = joblib.load('random_forest_model.pkl')\n",
    "\n",
    "@app.route('/')\n",
    "def index():\n",
    "    return render_template('index.html')\n",
    "\n",
    "@app.route('/predict', methods=['POST'])\n",
    "def predict():\n",
    "    try:\n",
    "        # Get form data\n",
    "        fixed_acidity = float(request.form['fixed_acidity'])\n",
    "        volatile_acidity = float(request.form['volatile_acidity'])\n",
    "        citric_acid = float(request.form['citric_acid'])\n",
    "        residual_sugar = float(request.form['residual_sugar'])\n",
    "        chlorides = float(request.form['chlorides'])\n",
    "        free_sulfur_dioxide = float(request.form['free_sulfur_dioxide'])\n",
    "        total_sulfur_dioxide = float(request.form['total_sulfur_dioxide'])\n",
    "        density = float(request.form['density'])\n",
    "        pH = float(request.form['pH'])\n",
    "        sulphates = float(request.form['sulphates'])\n",
    "        alcohol = float(request.form['alcohol'])\n",
    "\n",
    "        # Create features array\n",
    "        features = np.array([[fixed_acidity, volatile_acidity, citric_acid, residual_sugar,\n",
    "                              chlorides, free_sulfur_dioxide, total_sulfur_dioxide, density,\n",
    "                              pH, sulphates, alcohol]])\n",
    "\n",
    "        # Predict wine quality\n",
    "        prediction = model.predict(features)\n",
    "        return f'Predicted wine quality: {prediction[0]}'\n",
    "\n",
    "    except Exception as e:\n",
    "        return jsonify({'error': str(e)}), 400\n",
    "\n",
    "if __name__ == '__main__':\n",
    "    app.run(debug=True)\n",
    "\n"
   ]
  }
 ],
 "metadata": {
  "kernelspec": {
   "display_name": "Python 3 (ipykernel)",
   "language": "python",
   "name": "python3"
  },
  "language_info": {
   "codemirror_mode": {
    "name": "ipython",
    "version": 3
   },
   "file_extension": ".py",
   "mimetype": "text/x-python",
   "name": "python",
   "nbconvert_exporter": "python",
   "pygments_lexer": "ipython3",
   "version": "3.11.5"
  }
 },
 "nbformat": 4,
 "nbformat_minor": 5
}
